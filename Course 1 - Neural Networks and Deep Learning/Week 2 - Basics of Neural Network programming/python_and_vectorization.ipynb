{
 "cells": [
  {
   "cell_type": "markdown",
   "metadata": {},
   "source": [
    "## Vectorization comparizon"
   ]
  },
  {
   "cell_type": "code",
   "execution_count": 2,
   "metadata": {
    "collapsed": false
   },
   "outputs": [
    {
     "name": "stdout",
     "output_type": "stream",
     "text": [
      "Vectorized version\n",
      "Time: 78.12380790710449ms\n",
      "Value: 2500411.73909\n",
      "\n",
      "Looped version\n",
      "Time: 15198.485612869263ms\n",
      "Value: 2500411.73909\n"
     ]
    }
   ],
   "source": [
    "import numpy as np\n",
    "import time\n",
    "\n",
    "a = np.random.rand(10000000)\n",
    "b = np.random.rand(10000000)\n",
    "\n",
    "tic = time.time()\n",
    "c = np.dot(a,b)\n",
    "toc = time.time()\n",
    "\n",
    "print(\"Vectorized version\")\n",
    "print(\"Time: \" + str(1000*(toc - tic)) + \"ms\")\n",
    "print(\"Value: \" + str(c))\n",
    "\n",
    "print()\n",
    "\n",
    "tic = time.time()\n",
    "c = 0\n",
    "for i in range(10000000):\n",
    "    c += a[i]*b[i]\n",
    "toc = time.time()\n",
    "\n",
    "print(\"Looped version\")\n",
    "print(\"Time: \" + str(1000*(toc - tic)) + \"ms\")\n",
    "print(\"Value: \" + str(c))\n"
   ]
  },
  {
   "cell_type": "code",
   "execution_count": 3,
   "metadata": {
    "collapsed": false
   },
   "outputs": [],
   "source": [
    "v = np.random.rand(1000)\n",
    "expV = np.exp(v)\n",
    "logV = np.log(v)"
   ]
  },
  {
   "cell_type": "markdown",
   "metadata": {},
   "source": [
    "## Broadcasting"
   ]
  },
  {
   "cell_type": "code",
   "execution_count": 5,
   "metadata": {
    "collapsed": false
   },
   "outputs": [
    {
     "name": "stdout",
     "output_type": "stream",
     "text": [
      "[[  56.     0.     4.4   68. ]\n",
      " [   1.2  104.    52.     8. ]\n",
      " [   1.8  135.    99.     0.9]]\n"
     ]
    }
   ],
   "source": [
    "import numpy as np\n",
    "A = np.array([[56.0, 0.0, 4.4, 68.0],\n",
    "             [1.2, 104.0, 52.0, 8.0],\n",
    "             [1.8, 135.0, 99.0, 0.9]])\n",
    "print(A)"
   ]
  },
  {
   "cell_type": "code",
   "execution_count": 22,
   "metadata": {
    "collapsed": false
   },
   "outputs": [
    {
     "name": "stdout",
     "output_type": "stream",
     "text": [
      "[  59.   239.   155.4   76.9]\n"
     ]
    }
   ],
   "source": [
    "cal = A.sum(axis=0)   # Axis denotes if rows or columns should be summed, 0 =col\n",
    "print(cal)"
   ]
  },
  {
   "cell_type": "code",
   "execution_count": 21,
   "metadata": {
    "collapsed": false
   },
   "outputs": [
    {
     "name": "stdout",
     "output_type": "stream",
     "text": [
      "[[ 94.91525424   0.           2.83140283  88.42652796]\n",
      " [  2.03389831  43.51464435  33.46203346  10.40312094]\n",
      " [  3.05084746  56.48535565  63.70656371   1.17035111]]\n"
     ]
    }
   ],
   "source": [
    "percentage = 100*A/cal.reshape(1,4)   # Reshape transforms cal from a vector with 4 elements to a 1x4 matrix (not necessary)\n",
    "print(percentage)"
   ]
  },
  {
   "cell_type": "code",
   "execution_count": 41,
   "metadata": {
    "collapsed": false
   },
   "outputs": [
    {
     "name": "stdout",
     "output_type": "stream",
     "text": [
      "[[11 22 33]\n",
      " [11 22 33]]\n"
     ]
    }
   ],
   "source": [
    "two_by_tree = np.array([[10, 20, 30], \n",
    "                        [10, 20, 30]])\n",
    "\n",
    "one_by_tree = np.array([1, 2, 3])\n",
    "\n",
    "# numpy copies one_by_tree and transforms it to a 2x3 matrix by adding itself as another row\n",
    "broadcast_add = two_by_tree + one_by_tree\n",
    "print(broadcast_add)"
   ]
  },
  {
   "cell_type": "markdown",
   "metadata": {},
   "source": [
    "## Python tips and tricks"
   ]
  },
  {
   "cell_type": "code",
   "execution_count": 58,
   "metadata": {
    "collapsed": false
   },
   "outputs": [
    {
     "name": "stdout",
     "output_type": "stream",
     "text": [
      "[-0.83673392 -0.42574777  0.97605512  0.14371875 -0.35644109]\n",
      "(5,)\n"
     ]
    }
   ],
   "source": [
    "import numpy as np\n",
    "\n",
    "# Creates a 1-rank array instead of a 5x1 matrix\n",
    "a = np.random.randn(5)\n",
    "\n",
    "print(a)\n",
    "print(np.shape(a))"
   ]
  },
  {
   "cell_type": "code",
   "execution_count": 68,
   "metadata": {
    "collapsed": false
   },
   "outputs": [
    {
     "name": "stdout",
     "output_type": "stream",
     "text": [
      "[-0.33136687  0.69494029  2.36567862 -0.86241802  1.84742206]\n",
      "(5,)\n"
     ]
    }
   ],
   "source": [
    "# Tranposing this does not work\n",
    "print(a.T)\n",
    "print(np.shape(a.T))"
   ]
  },
  {
   "cell_type": "code",
   "execution_count": 60,
   "metadata": {
    "collapsed": false
   },
   "outputs": [
    {
     "name": "stdout",
     "output_type": "stream",
     "text": [
      "[[ 0.62434627]\n",
      " [ 0.11400525]\n",
      " [-0.050146  ]\n",
      " [-1.18686902]\n",
      " [ 1.31237951]]\n",
      "(5, 1)\n"
     ]
    }
   ],
   "source": [
    "# However if we specify matrix format we get the desirded shape\n",
    "a = np.random.randn(5,1)\n",
    "print(a)\n",
    "print(np.shape(a))"
   ]
  },
  {
   "cell_type": "code",
   "execution_count": 61,
   "metadata": {
    "collapsed": false
   },
   "outputs": [
    {
     "name": "stdout",
     "output_type": "stream",
     "text": [
      "[[ 0.62434627  0.11400525 -0.050146   -1.18686902  1.31237951]]\n",
      "(1, 5)\n"
     ]
    }
   ],
   "source": [
    "# Then transpose works again\n",
    "print(a.T)\n",
    "print(np.shape(a.T))"
   ]
  },
  {
   "cell_type": "code",
   "execution_count": 63,
   "metadata": {
    "collapsed": false
   },
   "outputs": [
    {
     "name": "stdout",
     "output_type": "stream",
     "text": [
      "[[-0.33136687]\n",
      " [ 0.69494029]\n",
      " [ 2.36567862]\n",
      " [-0.86241802]\n",
      " [ 1.84742206]]\n",
      "(5, 1)\n"
     ]
    }
   ],
   "source": [
    "# Alteratively we can reshape if we recieve data in 1-rank array format\n",
    "a = np.random.randn(5)\n",
    "b = a.reshape(5,1)\n",
    "print(b)\n",
    "print(np.shape(b))"
   ]
  }
 ],
 "metadata": {
  "kernelspec": {
   "display_name": "Python 3",
   "language": "python",
   "name": "python3"
  }
 },
 "nbformat": 4,
 "nbformat_minor": 2
}
